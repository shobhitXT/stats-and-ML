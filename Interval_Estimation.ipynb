{
 "cells": [
  {
   "cell_type": "code",
   "execution_count": 34,
   "metadata": {
    "ExecuteTime": {
     "end_time": "2021-05-05T07:58:06.964469Z",
     "start_time": "2021-05-05T07:58:06.939989Z"
    }
   },
   "outputs": [
    {
     "name": "stdout",
     "output_type": "stream",
     "text": [
      "It is a Z-test\n",
      "39630.0 - 42570.0\n"
     ]
    }
   ],
   "source": [
    "class invalid_tail_value(Exception):\n",
    "    def __init__(self,arg):\n",
    "        self.msg=arg\n",
    "\n",
    "class invalid_sample_size(Exception):\n",
    "    def __init__(self,arg):\n",
    "        self.msg=arg\n",
    "        \n",
    "class invalid_flag(Exception):\n",
    "    def __init__(self,arg):\n",
    "        self.msg=arg\n",
    "            \n",
    "\n",
    "def interval_estimate (flag, mean, standard_dev, sample_size,tail):\n",
    "    import math\n",
    "    n=int(sample_size)\n",
    "    mean=float(mean)\n",
    "    sigma=float(standard_dev)\n",
    "    tail=int(tail)\n",
    "    if flag=='point':\n",
    "        print('point estimate is: ')\n",
    "        print(mean)\n",
    "    elif flag=='interval':\n",
    "        if n<=30:\n",
    "            print('It is a T-test')\n",
    "            if tail==1:\n",
    "                t={1:6.314,2:2.920,3:2.353,4:2.132,5:2.015,6:1.943,7:1.895,8:1.860,9:1.833,10:1.812,11:1.796,12:1.782,\n",
    "                   13:1.771,14:1.761,15:1.753,16:1.746,17:1.740,18:1.734,19:1.729,20:1.725,21:1.721,22:1.717,23:1.714,\n",
    "                   24:1.711,25:1.708,26:1.706,27:1.703,28:1.701,29:1.699,30:1.697}\n",
    "                lower_interval=mean-(t[n-1]*sigma/math.sqrt(n))\n",
    "                upper_interval=mean+(t[n-1]*sigma/math.sqrt(n))\n",
    "                print(lower_interval,'-',upper_interval)\n",
    "            elif tail==2:\n",
    "                t={1:12.706,2:4.303,3:3.182,4:2.776,5:2.571,6:2.447,7:2.365,8:2.306,9:2.262,10:2.228,11:2.201,12:2.179,\n",
    "                   13:2.160,14:2.145,15:2.131,16:2.120,17:2.110,18:2.101,19:2.093,20:2.086,21:2.080,22:2.074,23:2.069,\n",
    "                   24:2.064,25:2.060,26:2.056,27:2.052,28:2.048,29:2.043,30:2.042}\n",
    "                lower_interval=mean-(t[n-1]*sigma/math.sqrt(n))\n",
    "                upper_interval=mean+(t[n-1]*sigma/math.sqrt(n))\n",
    "                print(lower_interval,'-',upper_interval)\n",
    "            else:\n",
    "                raise invalid_tail_value('invalid value of tail')\n",
    "        elif n>30:\n",
    "            print('It is a Z-test')\n",
    "            if tail==1:\n",
    "                z=1.65\n",
    "                lower_interval=mean-(z*sigma/math.sqrt(n))\n",
    "                upper_interval=mean+(z*sigma/math.sqrt(n))\n",
    "                print(lower_interval,'-',upper_interval)\n",
    "            elif tail==2:\n",
    "                z=1.96\n",
    "                lower_interval=mean-(z*sigma/math.sqrt(n))\n",
    "                upper_interval=mean+(z*sigma/math.sqrt(n))\n",
    "                print(lower_interval,'-',upper_interval)\n",
    "            else:\n",
    "                raise invalid_tail_value('invalid value of tail')\n",
    "        else:\n",
    "            raise invalid_sample_size('invalid value of sample size')\n",
    "    else:\n",
    "        raise invalid_flag('flag takes only 2 values- point or interval')\n",
    "                \n",
    "interval_estimate('interval',41100,4500,36,2)         "
   ]
  },
  {
   "cell_type": "code",
   "execution_count": null,
   "metadata": {},
   "outputs": [],
   "source": []
  }
 ],
 "metadata": {
  "kernelspec": {
   "display_name": "Python 3",
   "language": "python",
   "name": "python3"
  },
  "language_info": {
   "codemirror_mode": {
    "name": "ipython",
    "version": 3
   },
   "file_extension": ".py",
   "mimetype": "text/x-python",
   "name": "python",
   "nbconvert_exporter": "python",
   "pygments_lexer": "ipython3",
   "version": "3.8.5"
  }
 },
 "nbformat": 4,
 "nbformat_minor": 4
}
